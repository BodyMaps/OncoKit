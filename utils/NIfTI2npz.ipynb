{
 "cells": [
  {
   "cell_type": "code",
   "execution_count": 15,
   "metadata": {},
   "outputs": [],
   "source": [
    "import os\n",
    "import h5py\n",
    "import numpy as np\n",
    "import nibabel as nib\n",
    "\n",
    "FILE_PATH = '/Users/zongwei.zhou/Desktop/CHECK'\n",
    "PID = 'BDMAP_00031560'\n",
    "\n",
    "# Load the NIfTI file\n",
    "img = nib.load(os.path.join(FILE_PATH, PID, 'ct.nii.gz'))\n",
    "data = img.get_fdata().astype(np.int16)  # Ensure integer format\n",
    "\n",
    "# Save as .npz\n",
    "np.savez_compressed(os.path.join(FILE_PATH, PID, 'ct.npz'), data=data)\n",
    "\n",
    "# Save as .h5\n",
    "with h5py.File(os.path.join(FILE_PATH, PID, 'ct.h5'), 'w') as h5f:\n",
    "    h5f.create_dataset('data', data=data, compression='gzip', compression_opts=9)\n"
   ]
  }
 ],
 "metadata": {
  "kernelspec": {
   "display_name": "base",
   "language": "python",
   "name": "python3"
  },
  "language_info": {
   "codemirror_mode": {
    "name": "ipython",
    "version": 3
   },
   "file_extension": ".py",
   "mimetype": "text/x-python",
   "name": "python",
   "nbconvert_exporter": "python",
   "pygments_lexer": "ipython3",
   "version": "3.12.4"
  }
 },
 "nbformat": 4,
 "nbformat_minor": 2
}
